# %% [markdown]
# ## **Divvy Bike Share System**
# Analyzing User Behavior to Optimize Marketing Strategy
# ### **Project Goal:**
# Analyzing Divvy bike trip data (a bike-sharing system in Chicago) to identify differences in behavior between annual members and casual riders. The goal is to develop a marketing strategy based on the findings, aimed at attracting casual riders to annual membership.

# %% [markdown]
# ### **1. Data Processing With Python**

# %%
import pandas as pd
import numpy as np
import os
# Import all the necessary packages

pwd = os.getcwd()
# Create pwd path variable to make the code cleaner

# %%
ds1 = pd.read_csv(pwd + "/Trips_Data/24_01_tripdata.csv")
ds2 = pd.read_csv(pwd + "/Trips_Data/24_02_tripdata.csv")
ds3 = pd.read_csv(pwd + "/Trips_Data/24_03_tripdata.csv")
ds4 = pd.read_csv(pwd + "/Trips_Data/24_04_tripdata.csv")
ds5 = pd.read_csv(pwd + "/Trips_Data/24_05_tripdata.csv")
ds6 = pd.read_csv(pwd + "/Trips_Data/24_06_tripdata.csv")
ds7 = pd.read_csv(pwd + "/Trips_Data/24_07_tripdata.csv")
ds8 = pd.read_csv(pwd + "/Trips_Data/24_08_tripdata.csv")
ds9 = pd.read_csv(pwd + "/Trips_Data/24_09_tripdata.csv")
ds10 = pd.read_csv(pwd + "/Trips_Data/24_10_tripdata.csv")
ds11 = pd.read_csv(pwd + "/Trips_Data/24_11_tripdata.csv")
ds12 = pd.read_csv(pwd + "/Trips_Data/24_12_tripdata.csv")
# Import all the files

# %% [markdown]
# Since our data is divided into 12 separate files, where each file contains each month separately, we have to combine them into a whole DataFrame

# %%
bikes_data = pd.concat([ds1, ds2, ds3, ds4, ds5, ds6, ds7, ds8, ds9, ds10, ds11, ds12])
bikes_data
# Concatinatig them into one big DataFrame

# %% [markdown]
# Let's make some quick checks to learn more about our data

# %%
bikes_data.dtypes

# %%
bikes_data.isnull().sum()
# Check for NaN values

# %%
bikes_data.duplicated().sum()
# Check for duplicates

# %% [markdown]
# Fine, the data has been checked, so it's time to start cleaning and transforming.

# %%
bikes_data = bikes_data.drop(columns=["ride_id", "start_station_id", "start_station_name", "end_station_name", "end_station_id", 
                  "start_lat", "start_lng", "end_lat", "end_lng"])
bikes_data.head()
# Drop unnecessary columns

# %%
bikes_data["started_at"] = pd.to_datetime(bikes_data["started_at"].str.split('.').str[0], format="%Y-%m-%d %H:%M:%S")
bikes_data["ended_at"] = pd.to_datetime(bikes_data["ended_at"].str.split('.').str[0], format="%Y-%m-%d %H:%M:%S")
# Coverting coumns into a datetime type
# I also drop miliseconds to make the data easier to use

print(bikes_data.dtypes)
# A quick check

# %% [markdown]
# Make a new column **"ride_time_minutes"** to know a trip duration for each record.

# %%
bikes_data["ride_time_minutes"] = round((bikes_data["ended_at"] - bikes_data["started_at"]).dt.total_seconds() / 60).astype(int)
bikes_data.head()
# Substract the strat time from end time
# Dividing by 60 to convet into minutes

# %% [markdown]
# Let's make a few basic calculations on our new column.

# %%
bikes_data.groupby('member_casual')['ride_time_minutes'].mean()
# Calculate the average

# %%
bikes_data.groupby('member_casual')['ride_time_minutes'].min()
# Calculate the minimum

# %%
bikes_data.groupby('member_casual')['ride_time_minutes'].max()
# Calculate the maximum

# %% [markdown]
# As a result, I see that we have some negative values in our column which seems incorrect to me, let's find out exactly how many of them there are and find a solution.

# %%
negative_count = (bikes_data["ride_time_minutes"] < 0).sum()
print(negative_count)
# Let's see how many of these negative values we have

# %% [markdown]
# Understanding the size of our data, in this case we can simply eliminate those rows whitout significante affect on the whole picture.

# %%
bikes_data = bikes_data[bikes_data["ride_time_minutes"] >= 0]
# Leave only the data in the column, that is equal to or greater than zero

negative_count = (bikes_data["ride_time_minutes"] < 0).sum()
print(negative_count)
# Let's see if everyting went well

# %% [markdown]
# Now I want to create a new column where the duration of each trip will be categorized, which will make it easier to understand the data in the future when it is visualized.

# %%
def if_el(duration):
    if duration < 10:
        return "Under 10"
    elif 10 <= duration < 20:
        return "10 to 20"
    elif 20 <= duration < 40:
        return "20 to 40"
    elif 40 <= duration < 60:
        return "40 to 60"
    else:
        return "Over 60" 
# Creating our own function if_el to categorize duration
# Categorize trip durations into the following intervals: "Under 10", "10 to 20", "20 to 40", "40 to 60", and "Over 60"

bikes_data["trip_duration"] = bikes_data["ride_time_minutes"].apply(if_el)
# Apply the function to the chosen column
bikes_data.head()


# %% [markdown]
# Now it's time to make a few new columns in order to dive deeper and see if there is any patterns in our trips data

# %%
bikes_data["month"] = bikes_data["started_at"].dt.month_name()
bikes_data["day"] = bikes_data["started_at"].dt.day_name()
bikes_data["hour"] = bikes_data["started_at"].dt.hour
# Create three new columns with month name, day of the week and hour
bikes_data.head()
# Another check if everyting went well

# %% [markdown]
# Now that we have finished working with the time and dates, we can get rid of unnecessary columns.

# %%
bikes_data = bikes_data.drop(columns=["started_at", "ended_at"])
bikes_data.head()
# Perform the drop process

# %% [markdown]
# Almost finished! Let's group our data together and count them.

# %%
bikes_data_final = bikes_data.groupby(["rideable_type", "member_casual", 
                       "ride_time_minutes", "trip_duration", "month", "day", "hour"]).size().reset_index(name="num_of_rides")
# Grouping all the data and adding a new column "num_of_rides" with the count
bikes_data_final
# Let's take a look at what we have done

# %%
bikes_data_final.to_csv("Divvy_Bike_Share_System.csv", index=False)
# Save the data in csv format

# %% [markdown]
# ### **2. Analyze Data With Tableau**
# Since the data has been processed, grouped, and saved in CSV format. Now we can use this file to create a [dashboard](https://public.tableau.com/views/DivvyBikeShareSystem/DivvyBikeShareSystemDashboard?:language=en-US&publish=yes&:sid=&:redirect=auth&:display_count=n&:origin=viz_share_link) and analyze it with Tableau.

# %% [markdown]
# ### **3. Share Conclusions and Recommendations**
# The entire process of working with the project, a description of the research and conclusions drawing are available in the Read.me file attached to the published [project](https://github.com/letamyur/Divvy-bike-share-analysis) on Github
# 
